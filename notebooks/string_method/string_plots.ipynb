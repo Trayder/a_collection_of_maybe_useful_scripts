{
 "cells": [
  {
   "cell_type": "code",
   "execution_count": null,
   "id": "stable-portsmouth",
   "metadata": {
    "ExecuteTime": {
     "end_time": "2022-07-22T00:32:27.341130Z",
     "start_time": "2022-07-22T00:32:21.832093Z"
    }
   },
   "outputs": [],
   "source": [
    "import numpy as np\n",
    "import os\n",
    "from glob import glob\n",
    "from natsort import natsorted\n",
    "import re\n",
    "from tqdm.auto import tqdm\n",
    "\n",
    "from ipywidgets import interact, widgets\n",
    "\n",
    "import matplotlib\n",
    "from matplotlib import pyplot as plt\n",
    "from matplotlib.animation import FuncAnimation\n",
    "import functools\n",
    "\n",
    "matplotlib.rcParams.update({'figure.autolayout': True, 'toolbar':'None'})\n",
    "%matplotlib widget"
   ]
  },
  {
   "cell_type": "markdown",
   "id": "c8a34426",
   "metadata": {},
   "source": [
    "# Functions"
   ]
  },
  {
   "cell_type": "markdown",
   "id": "8c8004b1",
   "metadata": {},
   "source": [
    "## load data"
   ]
  },
  {
   "cell_type": "code",
   "execution_count": null,
   "id": "f3168011",
   "metadata": {},
   "outputs": [],
   "source": [
    "# data is image centers with shape: (images,cvs,iterations)\n",
    "# data[:,:,0] is the image centers in the initial path\n",
    "# read from initial image colvar .conf files, and from NAMD log file after each iteration\n",
    "def extract_data(workdir, outname=\"data.npy\"):\n",
    "    n_imgs = len(glob(f\"{workdir}/output/*\"))  \n",
    "    data = None\n",
    "    for im in tqdm(range(n_imgs),leave=False):\n",
    "        with open(f\"{workdir}/setup/image_\"+str(im)+\"_colvars.conf\", \"r\") as f:\n",
    "            im_data = np.array(re.findall(\"centers (\\d+.?\\d+)\", f.read()),dtype=float)\n",
    "            n_cvs = len(im_data)\n",
    "        with open(f\"{workdir}/output/\"+str(im)+\"/job00.\"+str(im)+\".log\", \"r\") as file:\n",
    "            n_reads = 0\n",
    "            for line in file:\n",
    "                if \"Updating bias_swarms_cv\" in line:\n",
    "                    cv = int(re.search(\"\\d+\",line)[0])\n",
    "                    if n_reads%n_cvs == 0:\n",
    "                        if n_reads > 1:\n",
    "                            im_data = np.vstack((im_data,it_data))\n",
    "                        it_data = np.zeros(n_cvs)\n",
    "\n",
    "                    next_line = next(file)\n",
    "                    center = float(re.search(r\"\\{\\s+(.*)\\s+\\}\", next_line).group(1))\n",
    "                    it_data[cv-1] = center\n",
    "                    n_reads += 1\n",
    "            im_data = np.vstack((im_data,it_data))\n",
    "        if data is None:\n",
    "            data = im_data\n",
    "        else:\n",
    "            data = np.dstack((data,im_data))\n",
    "    data = data.T\n",
    "    if outname is not None:\n",
    "        np.save(outname, data, allow_pickle=False)\n",
    "    return data"
   ]
  },
  {
   "cell_type": "code",
   "execution_count": null,
   "id": "d4bdaf81",
   "metadata": {},
   "outputs": [],
   "source": [
    "# traj_data is image centers with shape: (images,cvs,iterations,frames)\n",
    "# read from NAMD colvars trajectory file\n",
    "def extract_traj_data(workdir, outname=\"traj_data.npy\", stride=1):\n",
    "    n_imgs = len(glob(f\"{workdir}/output/*\"))  \n",
    "    traj_data = None\n",
    "    for im in tqdm(range(n_imgs),position=0,leave=False):\n",
    "        cv_traj_files = natsorted(glob(f\"{workdir}/output/\"+str(im)+\"/*drift*colvars.traj\"))\n",
    "        n_iter = len(cv_traj_files)\n",
    "        iter_data = None\n",
    "        for it in tqdm(range(n_iter),position=1,leave=False):\n",
    "            iter_traj = np.loadtxt(cv_traj_files[it])[::stride,1:]\n",
    "            if iter_data is None:\n",
    "                iter_data = iter_traj\n",
    "            else:\n",
    "                iter_data = np.dstack((iter_data,iter_traj))\n",
    "        if traj_data is None:\n",
    "            traj_data = np.asarray([iter_data])\n",
    "        else:\n",
    "            traj_data = np.vstack((traj_data,[iter_data]))\n",
    "    traj_data = traj_data.T\n",
    "    traj_data = np.swapaxes(traj_data,0,3)\n",
    "    traj_data = np.swapaxes(traj_data,2,3)\n",
    "    if outname is not None:\n",
    "        np.save(outname, traj_data, allow_pickle=False)\n",
    "    return traj_data"
   ]
  },
  {
   "cell_type": "code",
   "execution_count": null,
   "id": "b652032d",
   "metadata": {},
   "outputs": [],
   "source": []
  },
  {
   "cell_type": "code",
   "execution_count": null,
   "id": "bb940f9f",
   "metadata": {},
   "outputs": [],
   "source": [
    "def get_data(string_dir=None,data_name=\"data.npy\",traj_data_name=\"traj_data.npy\",stride=1):\n",
    "    if os.path.exists(f\"{string_dir}/{data_name}\"):\n",
    "        data = np.load(f\"{string_dir}/{data_name}\")\n",
    "    else:\n",
    "        data = extract_data(f\"{string_dir}\",outname=data_name)\n",
    "    if os.path.exists(f\"{string_dir}/{data_name}\"):\n",
    "        traj_data = np.load(f\"{string_dir}/{traj_data_name}\")\n",
    "    else:\n",
    "        traj_data = extract_data(f\"{string_dir}\",outname=traj_data_name,stride=stride)\n",
    "    return data,traj_data"
   ]
  },
  {
   "cell_type": "markdown",
   "id": "69b32fd0",
   "metadata": {},
   "source": [
    "## plotting"
   ]
  },
  {
   "cell_type": "code",
   "execution_count": null,
   "id": "explicit-quantum",
   "metadata": {
    "ExecuteTime": {
     "end_time": "2022-07-22T00:34:30.158292Z",
     "start_time": "2022-07-22T00:34:30.094768Z"
    },
    "scrolled": false
   },
   "outputs": [],
   "source": [
    "def render_interactive(data, traj_data=None, title=\"\", ani_outname=None,ani_interval=20,ani_cv=1):\n",
    "    '''\n",
    "    Produces interactive figure of image coordinates for cv/iteration slider values\n",
    "    If only data provided:\n",
    "        shows string evolution over time\n",
    "    if traj_data also provided:\n",
    "        shows per frame, and mean cv values vs image center\n",
    "\n",
    "    if ani_outname:\n",
    "        generate animated gif\n",
    "        ani_cv: cv for gif (1-indexed)\n",
    "        ani_interval: milliseconds between frames\n",
    "    '''\n",
    "    s_fade = 20 #steps between faded lines\n",
    "    f_fade = 0.80 #fade factor\n",
    "    matplotlib.rcParams['figure.figsize'] = (15, 5)\n",
    "    matplotlib.rcParams.update({'font.size': 20})\n",
    "    \n",
    "    fig,ax = plt.subplots(1,1)\n",
    "    fig.canvas.header_visible = False\n",
    "    x_vals = range(data.shape[0])\n",
    "            \n",
    "    def update_data(i,cv):\n",
    "        ax.clear()\n",
    "        ax.set_title(f\"{title}\")\n",
    "        ax.set_xlim(0,data.shape[0]-1)\n",
    "        ax.set_ylim(3,24)\n",
    "        ax.set_xlabel(\"Image\")\n",
    "        ax.set_ylabel(\"Distance Å\")\n",
    "        fade_lines = range(0,i,s_fade)\n",
    "        for k,f in enumerate(fade_lines):\n",
    "            y_vals = data[:,cv-1,f]\n",
    "            a = f_fade**(len(fade_lines)-k)-(f_fade**(len(fade_lines)-k)-f_fade**(len(fade_lines)-k+1))*((i-1)%s_fade/s_fade)\n",
    "            if a > 0.01:\n",
    "                ax.plot(x_vals,y_vals,color='#1f77b4',alpha=a)\n",
    "        y_vals = data[:,cv-1,i]\n",
    "        ax.plot(x_vals,y_vals,color='#1f77b4',alpha=1)\n",
    "        ax.text(0.95,0.95,\"CV = \"+str(cv)+\" It = \"+str(i),transform=ax.transAxes, size=16, ha='right', va='top')\n",
    "    \n",
    "    def update_traj_data(i,cv):\n",
    "        ax.clear()\n",
    "        ax.set_title(f\"{title}\\nZref (solid), Mean of trajectory (dashed)\")\n",
    "        ax.set_xlim(0,data.shape[0]-1)\n",
    "        ax.set_ylim(3,24)\n",
    "        ax.set_xlabel(\"Image\")\n",
    "        ax.set_ylabel(\"Distance Å\")        \n",
    "        for im in range(data.shape[0]):\n",
    "            stride = 10 if traj_data.shape[3] > 100 else 1  \n",
    "            traj_y = traj_data[im,cv-1,i,::stride]\n",
    "            traj_x = np.linspace(im-0.5,im-0.5+1,len(traj_y))\n",
    "            ax.plot(traj_x,traj_y)\n",
    "\n",
    "            x = [im-0.5,im-0.5+1]\n",
    "            y = [data[im,cv-1,i],data[im,cv-1,i]]\n",
    "            ax.plot(x,y,color=\"black\")\n",
    "\n",
    "            mean_y = np.mean(traj_data[im,cv-1,i,:])\n",
    "            y_2 = [mean_y, mean_y]\n",
    "            ax.plot(x,y_2,color=\"black\",ls='dashed')\n",
    "        ax.text(0.95,0.95,\"CV = \"+str(cv)+\" It = \"+str(i),transform=ax.transAxes, size=16, ha='right', va='top')\n",
    "            \n",
    "    if traj_data is not None:\n",
    "        update = update_traj_data\n",
    "        max_i = traj_data.shape[2]-1\n",
    "    else:\n",
    "        update = update_data\n",
    "        max_i = data.shape[2]-1\n",
    "                   \n",
    "    i_slider = widgets.IntSlider(min=0,max=max_i,step=1,value=0,layout=widgets.Layout(width='500px'))\n",
    "    cv_slider = widgets.IntSlider(min=1,max=data.shape[1],step=1,value=1,layout=widgets.Layout(width='500px'))\n",
    "    interact(update,i=i_slider,cv=cv_slider)\n",
    "\n",
    "    if ani_outname is not None:\n",
    "        ani = FuncAnimation(fig, functools.partial(update,cv=ani_cv), frames=tqdm(range(max_i),leave=False), interval=ani_interval)\n",
    "        ani.save(ani_outname,writer=\"imagemagick\",dpi=100,fps=60)"
   ]
  },
  {
   "cell_type": "code",
   "execution_count": null,
   "id": "0c600035",
   "metadata": {},
   "outputs": [],
   "source": [
    "def extract_traj_data(workdir, outname=\"traj_data.npy\", stride=1):\n",
    "    n_imgs = len(glob(f\"{workdir}/output/*\"))  \n",
    "    traj_data = None\n",
    "    for im in tqdm(range(n_imgs),position=0,leave=False):\n",
    "        cv_traj_files = natsorted(glob(f\"{workdir}/output/\"+str(im)+\"/*drift*colvars.traj\"))    \n",
    "        n_iter = len(cv_traj_files)\n",
    "        iter_data = None\n",
    "        for it in tqdm(range(n_iter),position=1,leave=False):\n",
    "            iter_traj = np.loadtxt(cv_traj_files[it])[::stride,1:]\n",
    "            if iter_data is None:\n",
    "                iter_data = iter_traj\n",
    "            else:\n",
    "                iter_data = np.dstack((iter_data,iter_traj))\n",
    "        if traj_data is None:\n",
    "            traj_data = np.asarray([iter_data])\n",
    "        else:\n",
    "            traj_data = np.vstack((traj_data,[iter_data]))\n",
    "    traj_data = traj_data.T\n",
    "    traj_data = np.swapaxes(traj_data,0,3)\n",
    "    traj_data = np.swapaxes(traj_data,2,3)\n",
    "    if outname is not None:\n",
    "        np.save(outname, traj_data, allow_pickle=False)\n",
    "    return traj_data"
   ]
  },
  {
   "cell_type": "code",
   "execution_count": null,
   "id": "c910c0ab",
   "metadata": {},
   "outputs": [],
   "source": [
    "def pmf(pmf_dir=None,\n",
    "        colvar_traj_glob=\"*drift*.colvars.traj\",\n",
    "        ref_centers_glob=\"*.restart.conf\",\n",
    "        use_last_it=False):\n",
    "    #if duplicate it takes latest job\n",
    "    n_imgs = len(glob(f\"{pmf_dir}/*\"))\n",
    "    iter_num = None\n",
    "    colvar_traj_files = []\n",
    "    for im in range(n_imgs):\n",
    "        im_traj_file = natsorted(glob(f\"{pmf_dir}/{str(im)}/{colvar_traj_glob}\"))\n",
    "        if not use_last_it:\n",
    "            assert len(im_traj_file) == 1, f\"ERROR: matched multiple colvars.traj files: {pmf_dir}/{str(im)}/{colvar_traj_glob}\"\n",
    "        im_traj_file = im_traj_file[-1]\n",
    "        iter_match = re.search(r'iter(\\d+)', im_traj_file)\n",
    "        if iter_num is None and iter_match is not None:\n",
    "            iter_num = iter_match.group(1)\n",
    "        colvar_traj_files.append(im_traj_file)\n",
    "    if iter_num is not None:\n",
    "        assert len(set(re.search(r'iter(\\d+)', s).group(1) for s in colvar_traj_files)) == 1, \"mismatched iter nums\"\n",
    "    \n",
    "    Z = np.asarray([np.loadtxt(i) for i in colvar_traj_files])[:,:,1:]\n",
    "    print(\"Z.shape: \"+str(Z.shape))\n",
    "    \n",
    "    Zref = []\n",
    "    for im in range(n_imgs):\n",
    "        ref_centers_file = natsorted(glob(f\"{pmf_dir}/{str(im)}/{ref_centers_glob}\"))\n",
    "        if not use_last_it:\n",
    "            assert len(ref_centers_file) == 1, f\"ERROR: matched multiple ref_centers_files: {pmf_dir}/{str(im)}/{ref_centers_glob}\"\n",
    "        if iter_num is not None:\n",
    "            for f in ref_centers_file[::-1]:\n",
    "                ref_iter_num = re.search(r'iter(\\d+)', f).group(1)\n",
    "                if ref_iter_num == iter_num:\n",
    "                    ref_centers_file = f\n",
    "                    break\n",
    "        else:\n",
    "            ref_centers_file = ref_centers_file[-1]\n",
    "        \n",
    "        with open(ref_centers_file, \"r\") as f:\n",
    "            Zref.append(np.array(re.findall(\"centers (\\d+.?\\d+)\", f.read()),dtype=float))\n",
    "    Zref = np.asarray(Zref)\n",
    "    DeltaZ = np.swapaxes((np.swapaxes(Z,0,1)-Zref),0,1)\n",
    "    MeanDeltaZ = np.mean(DeltaZ, axis=1)\n",
    "    \n",
    "    K = 0.5\n",
    "    F = K*MeanDeltaZ\n",
    "    Wn = [-F[i]*(Zref[i+1]-Zref[i]) for i in range(len(Zref)-1)]\n",
    "    WnT = [-0.5*(F[i]+F[i+1])*(Zref[i+1]-Zref[i]) for i in range(len(Zref)-1)]\n",
    "    \n",
    "    PMF = np.asarray([np.sum(WnT[0:i]) for i in range(32)])   \n",
    "    return PMF, Wn, WnT"
   ]
  },
  {
   "cell_type": "markdown",
   "id": "02adcc59",
   "metadata": {},
   "source": [
    "# Plots"
   ]
  },
  {
   "cell_type": "code",
   "execution_count": null,
   "id": "a70d7b78",
   "metadata": {},
   "outputs": [],
   "source": [
    "data, traj_data = get_data(\"./src_barrier_string000/\",data_name=\"data.npy\",traj_data_name=\"traj_data_s100.npy\",stride=100)"
   ]
  },
  {
   "cell_type": "code",
   "execution_count": null,
   "id": "0b88bcad",
   "metadata": {},
   "outputs": [],
   "source": [
    "fig_data = render_interactive(data)\n",
    "# fig_data = render_interactive(data, ani_cv=28, ani_outname=\"cv_evolution.gif\")"
   ]
  },
  {
   "cell_type": "code",
   "execution_count": null,
   "id": "2b12c82f",
   "metadata": {},
   "outputs": [],
   "source": [
    "fig_traj_data = render_interactive(data,traj_data)\n",
    "#fig_traj_data = render_interactive(data,traj_data, ani_cv=28, ani_outname=\"cv_traj_evolution.gif\")"
   ]
  },
  {
   "cell_type": "code",
   "execution_count": null,
   "id": "spiritual-malpractice",
   "metadata": {
    "ExecuteTime": {
     "end_time": "2022-06-03T01:17:13.319224Z",
     "start_time": "2022-06-03T01:17:12.210080Z"
    }
   },
   "outputs": [],
   "source": [
    "# Reminder data[it=0] is initial Zref, traj_data[it=0] is traj with initial Zref\n",
    "converge_data = np.zeros((traj_data.shape[0],traj_data.shape[2]))\n",
    "max_cvdist_data = np.zeros((traj_data.shape[0],traj_data.shape[2]))\n",
    "for im in range(traj_data.shape[0]):\n",
    "    for it in range(traj_data.shape[2]):\n",
    "        base = data[im,:,it]\n",
    "        mean = np.mean(traj_data[im,:,it],axis=1)\n",
    "        d_cv = np.linalg.norm(base-mean)\n",
    "        converge_data[im,it] = d_cv\n",
    "        max_cvdist_data[im,it] = np.max(base-mean)"
   ]
  },
  {
   "cell_type": "code",
   "execution_count": null,
   "id": "therapeutic-crack",
   "metadata": {
    "ExecuteTime": {
     "end_time": "2022-06-03T01:18:09.762330Z",
     "start_time": "2022-06-03T01:18:09.678587Z"
    }
   },
   "outputs": [],
   "source": [
    "# per image convergence\n",
    "x_vals = range(data.shape[0])\n",
    "fig,ax = plt.subplots(1,1)\n",
    "ax2 = ax.twinx()\n",
    "fig.canvas.header_visible = False\n",
    "matplotlib.rcParams['figure.figsize'] = (15,5)\n",
    "matplotlib.rcParams.update({'font.size': 20})\n",
    "\n",
    "def update(i):\n",
    "    ax.clear()\n",
    "    ax.set_xlim(0,len(x_vals))\n",
    "    ax.set_ylim(0,10)    \n",
    "    ax.set_xlabel(\"Image\")\n",
    "    ax.set_ylabel(\"Distance in CV space\\n from previous Zref\", color='#1f77b4')\n",
    "    ax.plot(x_vals,converge_data[:,i])\n",
    "    ax2.clear()\n",
    "    ax2.set_ylim(0,10)\n",
    "    ax2.yaxis.set_label_position('right')\n",
    "    ax2.set_ylabel(\"Max distance of any CV\\n from previous Zref\", color='orange')\n",
    "    ax2.plot(x_vals,max_cvdist_data[:,i],color='orange')\n",
    "    stride_text = ax.text(0.95,0.95,\"It = \"+str(i),transform=ax.transAxes, size=16, ha='right', va='top')   \n",
    "    \n",
    "fig_conv = interact(update,i=widgets.IntSlider(min=0,max=traj_data.shape[2]-1,step=1,value=0,layout=widgets.Layout(width='500px')))\n",
    "\n",
    "# ani = FuncAnimation(fig, update, frames=tqdm(range(traj_data.shape[2]-1),leave=False), interval=20)\n",
    "# ani.save(\"per_image_convergence.gif\",writer=\"imagemagick\",dpi=100,fps=60)"
   ]
  },
  {
   "cell_type": "code",
   "execution_count": null,
   "id": "friendly-legislature",
   "metadata": {
    "ExecuteTime": {
     "end_time": "2022-06-03T01:18:41.468311Z",
     "start_time": "2022-06-03T01:18:41.448913Z"
    }
   },
   "outputs": [],
   "source": [
    "# convergence over iterations\n",
    "fig = plt.figure()\n",
    "plt.plot(np.mean(converge_data, axis=0))\n",
    "plt.show()"
   ]
  }
 ],
 "metadata": {
  "kernelspec": {
   "display_name": "base",
   "language": "python",
   "name": "python3"
  },
  "language_info": {
   "codemirror_mode": {
    "name": "ipython",
    "version": 3
   },
   "file_extension": ".py",
   "mimetype": "text/x-python",
   "name": "python",
   "nbconvert_exporter": "python",
   "pygments_lexer": "ipython3",
   "version": "3.12.8"
  }
 },
 "nbformat": 4,
 "nbformat_minor": 5
}
